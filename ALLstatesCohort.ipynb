{
 "cells": [
  {
   "cell_type": "code",
   "execution_count": 1,
   "metadata": {},
   "outputs": [],
   "source": [
    "import pandas as pd\n",
    "from matplotlib import pyplot as plt\n",
    "import seaborn as sns\n",
    "from sklearn import preprocessing\n",
    "from sklearn.preprocessing import StandardScaler\n",
    "from sklearn.preprocessing import MinMaxScaler\n",
    "\n",
    "%matplotlib inline"
   ]
  },
  {
   "cell_type": "code",
   "execution_count": 2,
   "metadata": {},
   "outputs": [
    {
     "name": "stderr",
     "output_type": "stream",
     "text": [
      "C:\\Users\\rekik\\Anaconda3\\lib\\site-packages\\IPython\\core\\interactiveshell.py:3057: DtypeWarning: Columns (1) have mixed types. Specify dtype option on import or set low_memory=False.\n",
      "  interactivity=interactivity, compiler=compiler, result=result)\n"
     ]
    },
    {
     "data": {
      "text/html": [
       "<div>\n",
       "<style scoped>\n",
       "    .dataframe tbody tr th:only-of-type {\n",
       "        vertical-align: middle;\n",
       "    }\n",
       "\n",
       "    .dataframe tbody tr th {\n",
       "        vertical-align: top;\n",
       "    }\n",
       "\n",
       "    .dataframe thead th {\n",
       "        text-align: right;\n",
       "    }\n",
       "</style>\n",
       "<table border=\"1\" class=\"dataframe\">\n",
       "  <thead>\n",
       "    <tr style=\"text-align: right;\">\n",
       "      <th></th>\n",
       "      <th>UNITID</th>\n",
       "      <th>OPEID</th>\n",
       "      <th>OPEID6</th>\n",
       "      <th>INSTNM</th>\n",
       "      <th>CITY</th>\n",
       "      <th>STABBR</th>\n",
       "      <th>ZIP</th>\n",
       "      <th>PCIP01</th>\n",
       "      <th>PCIP03</th>\n",
       "      <th>PCIP09</th>\n",
       "      <th>...</th>\n",
       "      <th>PCIP27</th>\n",
       "      <th>PCIP29</th>\n",
       "      <th>PCIP40</th>\n",
       "      <th>PCIP41</th>\n",
       "      <th>PCIP42</th>\n",
       "      <th>PCIP47</th>\n",
       "      <th>D150_4</th>\n",
       "      <th>D150_L4</th>\n",
       "      <th>year</th>\n",
       "      <th>cohort</th>\n",
       "    </tr>\n",
       "  </thead>\n",
       "  <tbody>\n",
       "    <tr>\n",
       "      <th>0</th>\n",
       "      <td>100636</td>\n",
       "      <td>01230800</td>\n",
       "      <td>12308</td>\n",
       "      <td>Community College of the Air Force</td>\n",
       "      <td>Montgomery</td>\n",
       "      <td>AL</td>\n",
       "      <td>36114-3011</td>\n",
       "      <td>0.0000</td>\n",
       "      <td>0.0000</td>\n",
       "      <td>0.0029</td>\n",
       "      <td>...</td>\n",
       "      <td>0.0000</td>\n",
       "      <td>0.0463</td>\n",
       "      <td>0.0084</td>\n",
       "      <td>0.0022</td>\n",
       "      <td>0.0000</td>\n",
       "      <td>0.1984</td>\n",
       "      <td>0.0</td>\n",
       "      <td>0.0</td>\n",
       "      <td>1997</td>\n",
       "      <td>0.0</td>\n",
       "    </tr>\n",
       "    <tr>\n",
       "      <th>1</th>\n",
       "      <td>100654</td>\n",
       "      <td>00100200</td>\n",
       "      <td>1002</td>\n",
       "      <td>Alabama A &amp; M University</td>\n",
       "      <td>Normal</td>\n",
       "      <td>AL</td>\n",
       "      <td>35762</td>\n",
       "      <td>0.0323</td>\n",
       "      <td>0.0323</td>\n",
       "      <td>0.0000</td>\n",
       "      <td>...</td>\n",
       "      <td>0.0136</td>\n",
       "      <td>0.0000</td>\n",
       "      <td>0.0068</td>\n",
       "      <td>0.0000</td>\n",
       "      <td>0.0255</td>\n",
       "      <td>0.0000</td>\n",
       "      <td>0.0</td>\n",
       "      <td>0.0</td>\n",
       "      <td>1997</td>\n",
       "      <td>0.0</td>\n",
       "    </tr>\n",
       "    <tr>\n",
       "      <th>2</th>\n",
       "      <td>100663</td>\n",
       "      <td>00105200</td>\n",
       "      <td>1052</td>\n",
       "      <td>University of Alabama at Birmingham</td>\n",
       "      <td>Birmingham</td>\n",
       "      <td>AL</td>\n",
       "      <td>35294-0110</td>\n",
       "      <td>0.0000</td>\n",
       "      <td>0.0000</td>\n",
       "      <td>0.0263</td>\n",
       "      <td>...</td>\n",
       "      <td>0.0064</td>\n",
       "      <td>0.0000</td>\n",
       "      <td>0.0096</td>\n",
       "      <td>0.0000</td>\n",
       "      <td>0.0797</td>\n",
       "      <td>0.0000</td>\n",
       "      <td>0.0</td>\n",
       "      <td>0.0</td>\n",
       "      <td>1997</td>\n",
       "      <td>0.0</td>\n",
       "    </tr>\n",
       "    <tr>\n",
       "      <th>3</th>\n",
       "      <td>100690</td>\n",
       "      <td>02503400</td>\n",
       "      <td>25034</td>\n",
       "      <td>Amridge University</td>\n",
       "      <td>Montgomery</td>\n",
       "      <td>AL</td>\n",
       "      <td>36117-3553</td>\n",
       "      <td>0.0000</td>\n",
       "      <td>0.0000</td>\n",
       "      <td>0.0000</td>\n",
       "      <td>...</td>\n",
       "      <td>0.0000</td>\n",
       "      <td>0.0000</td>\n",
       "      <td>0.0000</td>\n",
       "      <td>0.0000</td>\n",
       "      <td>0.0000</td>\n",
       "      <td>0.0000</td>\n",
       "      <td>0.0</td>\n",
       "      <td>0.0</td>\n",
       "      <td>1997</td>\n",
       "      <td>0.0</td>\n",
       "    </tr>\n",
       "    <tr>\n",
       "      <th>4</th>\n",
       "      <td>100706</td>\n",
       "      <td>00105500</td>\n",
       "      <td>1055</td>\n",
       "      <td>University of Alabama in Huntsville</td>\n",
       "      <td>Huntsville</td>\n",
       "      <td>AL</td>\n",
       "      <td>35899</td>\n",
       "      <td>0.0000</td>\n",
       "      <td>0.0000</td>\n",
       "      <td>0.0000</td>\n",
       "      <td>...</td>\n",
       "      <td>0.0102</td>\n",
       "      <td>0.0000</td>\n",
       "      <td>0.0203</td>\n",
       "      <td>0.0000</td>\n",
       "      <td>0.0135</td>\n",
       "      <td>0.0000</td>\n",
       "      <td>0.0</td>\n",
       "      <td>0.0</td>\n",
       "      <td>1997</td>\n",
       "      <td>0.0</td>\n",
       "    </tr>\n",
       "  </tbody>\n",
       "</table>\n",
       "<p>5 rows × 25 columns</p>\n",
       "</div>"
      ],
      "text/plain": [
       "   UNITID     OPEID  OPEID6                               INSTNM        CITY  \\\n",
       "0  100636  01230800   12308   Community College of the Air Force  Montgomery   \n",
       "1  100654  00100200    1002             Alabama A & M University      Normal   \n",
       "2  100663  00105200    1052  University of Alabama at Birmingham  Birmingham   \n",
       "3  100690  02503400   25034                   Amridge University  Montgomery   \n",
       "4  100706  00105500    1055  University of Alabama in Huntsville  Huntsville   \n",
       "\n",
       "  STABBR         ZIP  PCIP01  PCIP03  PCIP09  ...  PCIP27  PCIP29  PCIP40  \\\n",
       "0     AL  36114-3011  0.0000  0.0000  0.0029  ...  0.0000  0.0463  0.0084   \n",
       "1     AL       35762  0.0323  0.0323  0.0000  ...  0.0136  0.0000  0.0068   \n",
       "2     AL  35294-0110  0.0000  0.0000  0.0263  ...  0.0064  0.0000  0.0096   \n",
       "3     AL  36117-3553  0.0000  0.0000  0.0000  ...  0.0000  0.0000  0.0000   \n",
       "4     AL       35899  0.0000  0.0000  0.0000  ...  0.0102  0.0000  0.0203   \n",
       "\n",
       "   PCIP41  PCIP42  PCIP47  D150_4  D150_L4  year  cohort  \n",
       "0  0.0022  0.0000  0.1984     0.0      0.0  1997     0.0  \n",
       "1  0.0000  0.0255  0.0000     0.0      0.0  1997     0.0  \n",
       "2  0.0000  0.0797  0.0000     0.0      0.0  1997     0.0  \n",
       "3  0.0000  0.0000  0.0000     0.0      0.0  1997     0.0  \n",
       "4  0.0000  0.0135  0.0000     0.0      0.0  1997     0.0  \n",
       "\n",
       "[5 rows x 25 columns]"
      ]
     },
     "execution_count": 2,
     "metadata": {},
     "output_type": "execute_result"
    }
   ],
   "source": [
    "filename = \"allStatesDataCohort.csv\"\n",
    "\n",
    "df = pd.read_csv(filename)\n",
    "df.head()"
   ]
  },
  {
   "cell_type": "code",
   "execution_count": 3,
   "metadata": {},
   "outputs": [],
   "source": [
    "dfpcip = df['PCIP01']+df['PCIP03']+df['PCIP26']+df['PCIP29']+df['PCIP40']+df['PCIP42']+df['PCIP09']+df['PCIP10']+df['PCIP11']+df['PCIP41']+df['PCIP47']+df['PCIP14']+df['PCIP15']+df['PCIP27']\n"
   ]
  },
  {
   "cell_type": "code",
   "execution_count": 4,
   "metadata": {},
   "outputs": [],
   "source": [
    "df['SCiTot'] = (df['PCIP01']+df['PCIP03']+df['PCIP26']+df['PCIP29']+df['PCIP40']+df['PCIP42'])*df['cohort']\n",
    "df['TechTot'] = (df['PCIP09']+df['PCIP10']+df['PCIP11']+df['PCIP41']+df['PCIP47'])*df['cohort']\n",
    "df['EngTot'] = (df['PCIP14']+df['PCIP15'])*df['cohort']\n",
    "df['MathTot'] = (df['PCIP27'])*df['cohort']"
   ]
  },
  {
   "cell_type": "code",
   "execution_count": 5,
   "metadata": {},
   "outputs": [
    {
     "data": {
      "text/plain": [
       "Index(['UNITID', 'OPEID', 'OPEID6', 'INSTNM', 'CITY', 'STABBR', 'ZIP',\n",
       "       'PCIP01', 'PCIP03', 'PCIP09', 'PCIP10', 'PCIP11', 'PCIP14', 'PCIP15',\n",
       "       'PCIP26', 'PCIP27', 'PCIP29', 'PCIP40', 'PCIP41', 'PCIP42', 'PCIP47',\n",
       "       'D150_4', 'D150_L4', 'year', 'cohort', 'SCiTot', 'TechTot', 'EngTot',\n",
       "       'MathTot'],\n",
       "      dtype='object')"
      ]
     },
     "execution_count": 5,
     "metadata": {},
     "output_type": "execute_result"
    }
   ],
   "source": [
    "df.columns"
   ]
  },
  {
   "cell_type": "code",
   "execution_count": 6,
   "metadata": {},
   "outputs": [],
   "source": [
    "stemdf = df.iloc[:,[3,25,26,27,28]]"
   ]
  },
  {
   "cell_type": "code",
   "execution_count": 7,
   "metadata": {},
   "outputs": [
    {
     "data": {
      "text/plain": [
       "Index(['INSTNM', 'SCiTot', 'TechTot', 'EngTot', 'MathTot'], dtype='object')"
      ]
     },
     "execution_count": 7,
     "metadata": {},
     "output_type": "execute_result"
    }
   ],
   "source": [
    "stemdf.columns"
   ]
  },
  {
   "cell_type": "code",
   "execution_count": 8,
   "metadata": {},
   "outputs": [
    {
     "name": "stderr",
     "output_type": "stream",
     "text": [
      "C:\\Users\\rekik\\Anaconda3\\lib\\site-packages\\ipykernel_launcher.py:1: SettingWithCopyWarning: \n",
      "A value is trying to be set on a copy of a slice from a DataFrame.\n",
      "Try using .loc[row_indexer,col_indexer] = value instead\n",
      "\n",
      "See the caveats in the documentation: http://pandas.pydata.org/pandas-docs/stable/indexing.html#indexing-view-versus-copy\n",
      "  \"\"\"Entry point for launching an IPython kernel.\n"
     ]
    }
   ],
   "source": [
    "stemdf['stemTotal']= stemdf['SCiTot'] + stemdf['TechTot'] + stemdf['EngTot'] + stemdf['MathTot']"
   ]
  },
  {
   "cell_type": "code",
   "execution_count": 9,
   "metadata": {},
   "outputs": [],
   "source": [
    "stemdf = stemdf[stemdf.stemTotal != 0]"
   ]
  },
  {
   "cell_type": "code",
   "execution_count": 10,
   "metadata": {},
   "outputs": [
    {
     "data": {
      "text/html": [
       "<div>\n",
       "<style scoped>\n",
       "    .dataframe tbody tr th:only-of-type {\n",
       "        vertical-align: middle;\n",
       "    }\n",
       "\n",
       "    .dataframe tbody tr th {\n",
       "        vertical-align: top;\n",
       "    }\n",
       "\n",
       "    .dataframe thead th {\n",
       "        text-align: right;\n",
       "    }\n",
       "</style>\n",
       "<table border=\"1\" class=\"dataframe\">\n",
       "  <thead>\n",
       "    <tr style=\"text-align: right;\">\n",
       "      <th></th>\n",
       "      <th>INSTNM</th>\n",
       "      <th>SCiTot</th>\n",
       "      <th>TechTot</th>\n",
       "      <th>EngTot</th>\n",
       "      <th>MathTot</th>\n",
       "      <th>stemTotal</th>\n",
       "    </tr>\n",
       "  </thead>\n",
       "  <tbody>\n",
       "    <tr>\n",
       "      <th>3233</th>\n",
       "      <td>Alabama A &amp; M University</td>\n",
       "      <td>185.2340</td>\n",
       "      <td>85.8500</td>\n",
       "      <td>151.5000</td>\n",
       "      <td>8.3830</td>\n",
       "      <td>430.9670</td>\n",
       "    </tr>\n",
       "    <tr>\n",
       "      <th>3234</th>\n",
       "      <td>University of Alabama at Birmingham</td>\n",
       "      <td>143.2673</td>\n",
       "      <td>41.3217</td>\n",
       "      <td>46.2878</td>\n",
       "      <td>5.4346</td>\n",
       "      <td>236.3114</td>\n",
       "    </tr>\n",
       "    <tr>\n",
       "      <th>3235</th>\n",
       "      <td>ALABAMA AVIATION AND TECHNICAL COLLEGE</td>\n",
       "      <td>0.0000</td>\n",
       "      <td>31.8010</td>\n",
       "      <td>13.9552</td>\n",
       "      <td>0.0000</td>\n",
       "      <td>45.7562</td>\n",
       "    </tr>\n",
       "    <tr>\n",
       "      <th>3237</th>\n",
       "      <td>University of Alabama in Huntsville</td>\n",
       "      <td>29.0904</td>\n",
       "      <td>12.9456</td>\n",
       "      <td>109.3308</td>\n",
       "      <td>13.5780</td>\n",
       "      <td>164.9448</td>\n",
       "    </tr>\n",
       "    <tr>\n",
       "      <th>3238</th>\n",
       "      <td>Alabama State University</td>\n",
       "      <td>176.9300</td>\n",
       "      <td>130.7800</td>\n",
       "      <td>0.0000</td>\n",
       "      <td>41.0800</td>\n",
       "      <td>348.7900</td>\n",
       "    </tr>\n",
       "  </tbody>\n",
       "</table>\n",
       "</div>"
      ],
      "text/plain": [
       "                                      INSTNM    SCiTot   TechTot    EngTot  \\\n",
       "3233                Alabama A & M University  185.2340   85.8500  151.5000   \n",
       "3234     University of Alabama at Birmingham  143.2673   41.3217   46.2878   \n",
       "3235  ALABAMA AVIATION AND TECHNICAL COLLEGE    0.0000   31.8010   13.9552   \n",
       "3237     University of Alabama in Huntsville   29.0904   12.9456  109.3308   \n",
       "3238                Alabama State University  176.9300  130.7800    0.0000   \n",
       "\n",
       "      MathTot  stemTotal  \n",
       "3233   8.3830   430.9670  \n",
       "3234   5.4346   236.3114  \n",
       "3235   0.0000    45.7562  \n",
       "3237  13.5780   164.9448  \n",
       "3238  41.0800   348.7900  "
      ]
     },
     "execution_count": 10,
     "metadata": {},
     "output_type": "execute_result"
    }
   ],
   "source": [
    "\n",
    "stemdf.head()"
   ]
  },
  {
   "cell_type": "code",
   "execution_count": 11,
   "metadata": {},
   "outputs": [
    {
     "data": {
      "text/plain": [
       "(56244, 6)"
      ]
     },
     "execution_count": 11,
     "metadata": {},
     "output_type": "execute_result"
    }
   ],
   "source": [
    "stemdf.shape"
   ]
  },
  {
   "cell_type": "code",
   "execution_count": 12,
   "metadata": {},
   "outputs": [
    {
     "data": {
      "text/html": [
       "<div>\n",
       "<style scoped>\n",
       "    .dataframe tbody tr th:only-of-type {\n",
       "        vertical-align: middle;\n",
       "    }\n",
       "\n",
       "    .dataframe tbody tr th {\n",
       "        vertical-align: top;\n",
       "    }\n",
       "\n",
       "    .dataframe thead th {\n",
       "        text-align: right;\n",
       "    }\n",
       "</style>\n",
       "<table border=\"1\" class=\"dataframe\">\n",
       "  <thead>\n",
       "    <tr style=\"text-align: right;\">\n",
       "      <th></th>\n",
       "      <th>SCiTot</th>\n",
       "      <th>TechTot</th>\n",
       "      <th>EngTot</th>\n",
       "      <th>MathTot</th>\n",
       "      <th>stemTotal</th>\n",
       "    </tr>\n",
       "  </thead>\n",
       "  <tbody>\n",
       "    <tr>\n",
       "      <th>count</th>\n",
       "      <td>56244.000000</td>\n",
       "      <td>56244.000000</td>\n",
       "      <td>56244.000000</td>\n",
       "      <td>56244.000000</td>\n",
       "      <td>56244.000000</td>\n",
       "    </tr>\n",
       "    <tr>\n",
       "      <th>mean</th>\n",
       "      <td>74.606724</td>\n",
       "      <td>58.518131</td>\n",
       "      <td>41.354560</td>\n",
       "      <td>5.333124</td>\n",
       "      <td>179.812540</td>\n",
       "    </tr>\n",
       "    <tr>\n",
       "      <th>std</th>\n",
       "      <td>158.480421</td>\n",
       "      <td>141.129532</td>\n",
       "      <td>110.547409</td>\n",
       "      <td>13.045456</td>\n",
       "      <td>336.677561</td>\n",
       "    </tr>\n",
       "    <tr>\n",
       "      <th>min</th>\n",
       "      <td>0.000000</td>\n",
       "      <td>0.000000</td>\n",
       "      <td>0.000000</td>\n",
       "      <td>0.000000</td>\n",
       "      <td>0.005400</td>\n",
       "    </tr>\n",
       "    <tr>\n",
       "      <th>25%</th>\n",
       "      <td>0.000000</td>\n",
       "      <td>7.308000</td>\n",
       "      <td>0.000000</td>\n",
       "      <td>0.000000</td>\n",
       "      <td>26.742000</td>\n",
       "    </tr>\n",
       "    <tr>\n",
       "      <th>50%</th>\n",
       "      <td>17.939900</td>\n",
       "      <td>25.047500</td>\n",
       "      <td>2.022200</td>\n",
       "      <td>0.000000</td>\n",
       "      <td>78.454350</td>\n",
       "    </tr>\n",
       "    <tr>\n",
       "      <th>75%</th>\n",
       "      <td>81.306400</td>\n",
       "      <td>65.684650</td>\n",
       "      <td>33.177225</td>\n",
       "      <td>5.740575</td>\n",
       "      <td>186.671625</td>\n",
       "    </tr>\n",
       "    <tr>\n",
       "      <th>max</th>\n",
       "      <td>2512.654800</td>\n",
       "      <td>12741.811200</td>\n",
       "      <td>2218.811000</td>\n",
       "      <td>370.044900</td>\n",
       "      <td>13704.083400</td>\n",
       "    </tr>\n",
       "  </tbody>\n",
       "</table>\n",
       "</div>"
      ],
      "text/plain": [
       "             SCiTot       TechTot        EngTot       MathTot     stemTotal\n",
       "count  56244.000000  56244.000000  56244.000000  56244.000000  56244.000000\n",
       "mean      74.606724     58.518131     41.354560      5.333124    179.812540\n",
       "std      158.480421    141.129532    110.547409     13.045456    336.677561\n",
       "min        0.000000      0.000000      0.000000      0.000000      0.005400\n",
       "25%        0.000000      7.308000      0.000000      0.000000     26.742000\n",
       "50%       17.939900     25.047500      2.022200      0.000000     78.454350\n",
       "75%       81.306400     65.684650     33.177225      5.740575    186.671625\n",
       "max     2512.654800  12741.811200   2218.811000    370.044900  13704.083400"
      ]
     },
     "execution_count": 12,
     "metadata": {},
     "output_type": "execute_result"
    }
   ],
   "source": [
    "#basic Stats for our file\n",
    "stemdf.describe()"
   ]
  },
  {
   "cell_type": "code",
   "execution_count": 13,
   "metadata": {},
   "outputs": [],
   "source": [
    "#corr = stemdf.corr()\n",
    "#sns.heatmap(corr, vmin =-1, annot = True)"
   ]
  },
  {
   "cell_type": "code",
   "execution_count": 14,
   "metadata": {},
   "outputs": [],
   "source": [
    "pcipdf = df.iloc[:,[7,8,9,10,11,12,13,14,15,16,17,18,19,20]]\n",
    "#pcipdf['stemTotal'] = df['PCIP01']+df['PCIP03']+df['PCIP26']+df['PCIP29']+df['PCIP40']+df['PCIP42']+df['PCIP09']+df['PCIP10']+df['PCIP11']+df['PCIP41']+df['PCIP47']+df['PCIP14']+df['PCIP15']+df['PCIP27']"
   ]
  },
  {
   "cell_type": "code",
   "execution_count": 15,
   "metadata": {},
   "outputs": [
    {
     "data": {
      "text/plain": [
       "Index(['PCIP01', 'PCIP03', 'PCIP09', 'PCIP10', 'PCIP11', 'PCIP14', 'PCIP15',\n",
       "       'PCIP26', 'PCIP27', 'PCIP29', 'PCIP40', 'PCIP41', 'PCIP42', 'PCIP47'],\n",
       "      dtype='object')"
      ]
     },
     "execution_count": 15,
     "metadata": {},
     "output_type": "execute_result"
    }
   ],
   "source": [
    "pcipdf.columns"
   ]
  },
  {
   "cell_type": "code",
   "execution_count": 16,
   "metadata": {},
   "outputs": [
    {
     "name": "stderr",
     "output_type": "stream",
     "text": [
      "C:\\Users\\rekik\\Anaconda3\\lib\\site-packages\\ipykernel_launcher.py:1: SettingWithCopyWarning: \n",
      "A value is trying to be set on a copy of a slice from a DataFrame.\n",
      "Try using .loc[row_indexer,col_indexer] = value instead\n",
      "\n",
      "See the caveats in the documentation: http://pandas.pydata.org/pandas-docs/stable/indexing.html#indexing-view-versus-copy\n",
      "  \"\"\"Entry point for launching an IPython kernel.\n"
     ]
    }
   ],
   "source": [
    "pcipdf['stemTotal'] = pcipdf['PCIP01']+pcipdf['PCIP03']+pcipdf['PCIP09']+pcipdf['PCIP10']+pcipdf['PCIP11']+pcipdf['PCIP14']+pcipdf['PCIP15']+pcipdf['PCIP26']+pcipdf['PCIP27']+pcipdf['PCIP29']+pcipdf['PCIP40']+pcipdf['PCIP41']+pcipdf['PCIP42']+pcipdf['PCIP47']"
   ]
  },
  {
   "cell_type": "code",
   "execution_count": 17,
   "metadata": {},
   "outputs": [
    {
     "data": {
      "text/plain": [
       "(76600, 15)"
      ]
     },
     "execution_count": 17,
     "metadata": {},
     "output_type": "execute_result"
    }
   ],
   "source": [
    "pcipdf.shape"
   ]
  },
  {
   "cell_type": "code",
   "execution_count": 18,
   "metadata": {},
   "outputs": [],
   "source": [
    "pcipdf = pcipdf[(pcipdf.T != 0).any()]"
   ]
  },
  {
   "cell_type": "code",
   "execution_count": 19,
   "metadata": {},
   "outputs": [
    {
     "data": {
      "text/plain": [
       "(62819, 15)"
      ]
     },
     "execution_count": 19,
     "metadata": {},
     "output_type": "execute_result"
    }
   ],
   "source": [
    "pcipdf.shape"
   ]
  },
  {
   "cell_type": "code",
   "execution_count": 20,
   "metadata": {},
   "outputs": [
    {
     "data": {
      "text/html": [
       "<div>\n",
       "<style scoped>\n",
       "    .dataframe tbody tr th:only-of-type {\n",
       "        vertical-align: middle;\n",
       "    }\n",
       "\n",
       "    .dataframe tbody tr th {\n",
       "        vertical-align: top;\n",
       "    }\n",
       "\n",
       "    .dataframe thead th {\n",
       "        text-align: right;\n",
       "    }\n",
       "</style>\n",
       "<table border=\"1\" class=\"dataframe\">\n",
       "  <thead>\n",
       "    <tr style=\"text-align: right;\">\n",
       "      <th></th>\n",
       "      <th>PCIP01</th>\n",
       "      <th>PCIP03</th>\n",
       "      <th>PCIP09</th>\n",
       "      <th>PCIP10</th>\n",
       "      <th>PCIP11</th>\n",
       "      <th>PCIP14</th>\n",
       "      <th>PCIP15</th>\n",
       "      <th>PCIP26</th>\n",
       "      <th>PCIP27</th>\n",
       "      <th>PCIP29</th>\n",
       "      <th>PCIP40</th>\n",
       "      <th>PCIP41</th>\n",
       "      <th>PCIP42</th>\n",
       "      <th>PCIP47</th>\n",
       "      <th>stemTotal</th>\n",
       "    </tr>\n",
       "  </thead>\n",
       "  <tbody>\n",
       "    <tr>\n",
       "      <th>0</th>\n",
       "      <td>0.0000</td>\n",
       "      <td>0.0000</td>\n",
       "      <td>0.0029</td>\n",
       "      <td>0.0367</td>\n",
       "      <td>0.0122</td>\n",
       "      <td>0.0000</td>\n",
       "      <td>0.1590</td>\n",
       "      <td>0.0000</td>\n",
       "      <td>0.0000</td>\n",
       "      <td>0.0463</td>\n",
       "      <td>0.0084</td>\n",
       "      <td>0.0022</td>\n",
       "      <td>0.0000</td>\n",
       "      <td>0.1984</td>\n",
       "      <td>0.4661</td>\n",
       "    </tr>\n",
       "    <tr>\n",
       "      <th>1</th>\n",
       "      <td>0.0323</td>\n",
       "      <td>0.0323</td>\n",
       "      <td>0.0000</td>\n",
       "      <td>0.0390</td>\n",
       "      <td>0.0662</td>\n",
       "      <td>0.0136</td>\n",
       "      <td>0.1579</td>\n",
       "      <td>0.0594</td>\n",
       "      <td>0.0136</td>\n",
       "      <td>0.0000</td>\n",
       "      <td>0.0068</td>\n",
       "      <td>0.0000</td>\n",
       "      <td>0.0255</td>\n",
       "      <td>0.0000</td>\n",
       "      <td>0.4466</td>\n",
       "    </tr>\n",
       "    <tr>\n",
       "      <th>2</th>\n",
       "      <td>0.0000</td>\n",
       "      <td>0.0000</td>\n",
       "      <td>0.0263</td>\n",
       "      <td>0.0000</td>\n",
       "      <td>0.0225</td>\n",
       "      <td>0.0553</td>\n",
       "      <td>0.0000</td>\n",
       "      <td>0.0739</td>\n",
       "      <td>0.0064</td>\n",
       "      <td>0.0000</td>\n",
       "      <td>0.0096</td>\n",
       "      <td>0.0000</td>\n",
       "      <td>0.0797</td>\n",
       "      <td>0.0000</td>\n",
       "      <td>0.2737</td>\n",
       "    </tr>\n",
       "    <tr>\n",
       "      <th>4</th>\n",
       "      <td>0.0000</td>\n",
       "      <td>0.0000</td>\n",
       "      <td>0.0000</td>\n",
       "      <td>0.0000</td>\n",
       "      <td>0.0457</td>\n",
       "      <td>0.3113</td>\n",
       "      <td>0.0000</td>\n",
       "      <td>0.0406</td>\n",
       "      <td>0.0102</td>\n",
       "      <td>0.0000</td>\n",
       "      <td>0.0203</td>\n",
       "      <td>0.0000</td>\n",
       "      <td>0.0135</td>\n",
       "      <td>0.0000</td>\n",
       "      <td>0.4416</td>\n",
       "    </tr>\n",
       "    <tr>\n",
       "      <th>5</th>\n",
       "      <td>0.0000</td>\n",
       "      <td>0.0000</td>\n",
       "      <td>0.0619</td>\n",
       "      <td>0.0000</td>\n",
       "      <td>0.1143</td>\n",
       "      <td>0.0000</td>\n",
       "      <td>0.0000</td>\n",
       "      <td>0.0595</td>\n",
       "      <td>0.0214</td>\n",
       "      <td>0.0000</td>\n",
       "      <td>0.0167</td>\n",
       "      <td>0.0000</td>\n",
       "      <td>0.0619</td>\n",
       "      <td>0.0000</td>\n",
       "      <td>0.3357</td>\n",
       "    </tr>\n",
       "  </tbody>\n",
       "</table>\n",
       "</div>"
      ],
      "text/plain": [
       "   PCIP01  PCIP03  PCIP09  PCIP10  PCIP11  PCIP14  PCIP15  PCIP26  PCIP27  \\\n",
       "0  0.0000  0.0000  0.0029  0.0367  0.0122  0.0000  0.1590  0.0000  0.0000   \n",
       "1  0.0323  0.0323  0.0000  0.0390  0.0662  0.0136  0.1579  0.0594  0.0136   \n",
       "2  0.0000  0.0000  0.0263  0.0000  0.0225  0.0553  0.0000  0.0739  0.0064   \n",
       "4  0.0000  0.0000  0.0000  0.0000  0.0457  0.3113  0.0000  0.0406  0.0102   \n",
       "5  0.0000  0.0000  0.0619  0.0000  0.1143  0.0000  0.0000  0.0595  0.0214   \n",
       "\n",
       "   PCIP29  PCIP40  PCIP41  PCIP42  PCIP47  stemTotal  \n",
       "0  0.0463  0.0084  0.0022  0.0000  0.1984     0.4661  \n",
       "1  0.0000  0.0068  0.0000  0.0255  0.0000     0.4466  \n",
       "2  0.0000  0.0096  0.0000  0.0797  0.0000     0.2737  \n",
       "4  0.0000  0.0203  0.0000  0.0135  0.0000     0.4416  \n",
       "5  0.0000  0.0167  0.0000  0.0619  0.0000     0.3357  "
      ]
     },
     "execution_count": 20,
     "metadata": {},
     "output_type": "execute_result"
    }
   ],
   "source": [
    "pcipdf.head()"
   ]
  },
  {
   "cell_type": "code",
   "execution_count": 23,
   "metadata": {},
   "outputs": [
    {
     "data": {
      "text/html": [
       "<div>\n",
       "<style scoped>\n",
       "    .dataframe tbody tr th:only-of-type {\n",
       "        vertical-align: middle;\n",
       "    }\n",
       "\n",
       "    .dataframe tbody tr th {\n",
       "        vertical-align: top;\n",
       "    }\n",
       "\n",
       "    .dataframe thead th {\n",
       "        text-align: right;\n",
       "    }\n",
       "</style>\n",
       "<table border=\"1\" class=\"dataframe\">\n",
       "  <thead>\n",
       "    <tr style=\"text-align: right;\">\n",
       "      <th></th>\n",
       "      <th>PCIP01</th>\n",
       "      <th>PCIP03</th>\n",
       "      <th>PCIP09</th>\n",
       "      <th>PCIP10</th>\n",
       "      <th>PCIP11</th>\n",
       "      <th>PCIP14</th>\n",
       "      <th>PCIP15</th>\n",
       "      <th>PCIP26</th>\n",
       "      <th>PCIP27</th>\n",
       "      <th>PCIP29</th>\n",
       "      <th>PCIP40</th>\n",
       "      <th>PCIP41</th>\n",
       "      <th>PCIP42</th>\n",
       "      <th>PCIP47</th>\n",
       "      <th>stemTotal</th>\n",
       "    </tr>\n",
       "  </thead>\n",
       "  <tbody>\n",
       "    <tr>\n",
       "      <th>count</th>\n",
       "      <td>62819.000000</td>\n",
       "      <td>62819.000000</td>\n",
       "      <td>62819.000000</td>\n",
       "      <td>62819.000000</td>\n",
       "      <td>62819.000000</td>\n",
       "      <td>62819.000000</td>\n",
       "      <td>62819.000000</td>\n",
       "      <td>62819.000000</td>\n",
       "      <td>62819.000000</td>\n",
       "      <td>62819.000000</td>\n",
       "      <td>62819.000000</td>\n",
       "      <td>62819.000000</td>\n",
       "      <td>62819.000000</td>\n",
       "      <td>62819.000000</td>\n",
       "      <td>62819.000000</td>\n",
       "    </tr>\n",
       "    <tr>\n",
       "      <th>mean</th>\n",
       "      <td>0.007081</td>\n",
       "      <td>0.005523</td>\n",
       "      <td>0.022274</td>\n",
       "      <td>0.005250</td>\n",
       "      <td>0.053573</td>\n",
       "      <td>0.018332</td>\n",
       "      <td>0.042149</td>\n",
       "      <td>0.031369</td>\n",
       "      <td>0.006155</td>\n",
       "      <td>0.000127</td>\n",
       "      <td>0.008888</td>\n",
       "      <td>0.000963</td>\n",
       "      <td>0.039009</td>\n",
       "      <td>0.013175</td>\n",
       "      <td>0.253868</td>\n",
       "    </tr>\n",
       "    <tr>\n",
       "      <th>std</th>\n",
       "      <td>0.034005</td>\n",
       "      <td>0.027709</td>\n",
       "      <td>0.039169</td>\n",
       "      <td>0.037556</td>\n",
       "      <td>0.103787</td>\n",
       "      <td>0.073507</td>\n",
       "      <td>0.123997</td>\n",
       "      <td>0.062586</td>\n",
       "      <td>0.010967</td>\n",
       "      <td>0.005285</td>\n",
       "      <td>0.024942</td>\n",
       "      <td>0.009852</td>\n",
       "      <td>0.068424</td>\n",
       "      <td>0.057862</td>\n",
       "      <td>0.207115</td>\n",
       "    </tr>\n",
       "    <tr>\n",
       "      <th>min</th>\n",
       "      <td>0.000000</td>\n",
       "      <td>0.000000</td>\n",
       "      <td>0.000000</td>\n",
       "      <td>0.000000</td>\n",
       "      <td>0.000000</td>\n",
       "      <td>0.000000</td>\n",
       "      <td>0.000000</td>\n",
       "      <td>0.000000</td>\n",
       "      <td>0.000000</td>\n",
       "      <td>0.000000</td>\n",
       "      <td>0.000000</td>\n",
       "      <td>0.000000</td>\n",
       "      <td>0.000000</td>\n",
       "      <td>0.000000</td>\n",
       "      <td>0.000600</td>\n",
       "    </tr>\n",
       "    <tr>\n",
       "      <th>25%</th>\n",
       "      <td>0.000000</td>\n",
       "      <td>0.000000</td>\n",
       "      <td>0.000000</td>\n",
       "      <td>0.000000</td>\n",
       "      <td>0.006200</td>\n",
       "      <td>0.000000</td>\n",
       "      <td>0.000000</td>\n",
       "      <td>0.000000</td>\n",
       "      <td>0.000000</td>\n",
       "      <td>0.000000</td>\n",
       "      <td>0.000000</td>\n",
       "      <td>0.000000</td>\n",
       "      <td>0.000000</td>\n",
       "      <td>0.000000</td>\n",
       "      <td>0.117700</td>\n",
       "    </tr>\n",
       "    <tr>\n",
       "      <th>50%</th>\n",
       "      <td>0.000000</td>\n",
       "      <td>0.000000</td>\n",
       "      <td>0.000000</td>\n",
       "      <td>0.000000</td>\n",
       "      <td>0.021600</td>\n",
       "      <td>0.000000</td>\n",
       "      <td>0.000000</td>\n",
       "      <td>0.006600</td>\n",
       "      <td>0.000000</td>\n",
       "      <td>0.000000</td>\n",
       "      <td>0.000000</td>\n",
       "      <td>0.000000</td>\n",
       "      <td>0.015700</td>\n",
       "      <td>0.000000</td>\n",
       "      <td>0.207200</td>\n",
       "    </tr>\n",
       "    <tr>\n",
       "      <th>75%</th>\n",
       "      <td>0.000000</td>\n",
       "      <td>0.000000</td>\n",
       "      <td>0.035500</td>\n",
       "      <td>0.000000</td>\n",
       "      <td>0.050000</td>\n",
       "      <td>0.001250</td>\n",
       "      <td>0.028800</td>\n",
       "      <td>0.046600</td>\n",
       "      <td>0.009000</td>\n",
       "      <td>0.000000</td>\n",
       "      <td>0.011300</td>\n",
       "      <td>0.000000</td>\n",
       "      <td>0.061700</td>\n",
       "      <td>0.000000</td>\n",
       "      <td>0.313500</td>\n",
       "    </tr>\n",
       "    <tr>\n",
       "      <th>max</th>\n",
       "      <td>1.000000</td>\n",
       "      <td>1.000000</td>\n",
       "      <td>1.000000</td>\n",
       "      <td>1.000000</td>\n",
       "      <td>1.000000</td>\n",
       "      <td>1.000000</td>\n",
       "      <td>1.000000</td>\n",
       "      <td>1.000000</td>\n",
       "      <td>0.500000</td>\n",
       "      <td>0.480700</td>\n",
       "      <td>1.000000</td>\n",
       "      <td>0.800000</td>\n",
       "      <td>1.000000</td>\n",
       "      <td>1.000000</td>\n",
       "      <td>1.000100</td>\n",
       "    </tr>\n",
       "  </tbody>\n",
       "</table>\n",
       "</div>"
      ],
      "text/plain": [
       "             PCIP01        PCIP03        PCIP09        PCIP10        PCIP11  \\\n",
       "count  62819.000000  62819.000000  62819.000000  62819.000000  62819.000000   \n",
       "mean       0.007081      0.005523      0.022274      0.005250      0.053573   \n",
       "std        0.034005      0.027709      0.039169      0.037556      0.103787   \n",
       "min        0.000000      0.000000      0.000000      0.000000      0.000000   \n",
       "25%        0.000000      0.000000      0.000000      0.000000      0.006200   \n",
       "50%        0.000000      0.000000      0.000000      0.000000      0.021600   \n",
       "75%        0.000000      0.000000      0.035500      0.000000      0.050000   \n",
       "max        1.000000      1.000000      1.000000      1.000000      1.000000   \n",
       "\n",
       "             PCIP14        PCIP15        PCIP26        PCIP27        PCIP29  \\\n",
       "count  62819.000000  62819.000000  62819.000000  62819.000000  62819.000000   \n",
       "mean       0.018332      0.042149      0.031369      0.006155      0.000127   \n",
       "std        0.073507      0.123997      0.062586      0.010967      0.005285   \n",
       "min        0.000000      0.000000      0.000000      0.000000      0.000000   \n",
       "25%        0.000000      0.000000      0.000000      0.000000      0.000000   \n",
       "50%        0.000000      0.000000      0.006600      0.000000      0.000000   \n",
       "75%        0.001250      0.028800      0.046600      0.009000      0.000000   \n",
       "max        1.000000      1.000000      1.000000      0.500000      0.480700   \n",
       "\n",
       "             PCIP40        PCIP41        PCIP42        PCIP47     stemTotal  \n",
       "count  62819.000000  62819.000000  62819.000000  62819.000000  62819.000000  \n",
       "mean       0.008888      0.000963      0.039009      0.013175      0.253868  \n",
       "std        0.024942      0.009852      0.068424      0.057862      0.207115  \n",
       "min        0.000000      0.000000      0.000000      0.000000      0.000600  \n",
       "25%        0.000000      0.000000      0.000000      0.000000      0.117700  \n",
       "50%        0.000000      0.000000      0.015700      0.000000      0.207200  \n",
       "75%        0.011300      0.000000      0.061700      0.000000      0.313500  \n",
       "max        1.000000      0.800000      1.000000      1.000000      1.000100  "
      ]
     },
     "execution_count": 23,
     "metadata": {},
     "output_type": "execute_result"
    }
   ],
   "source": [
    "pcipdf.describe()"
   ]
  },
  {
   "cell_type": "code",
   "execution_count": 21,
   "metadata": {},
   "outputs": [],
   "source": [
    "#pcipdf = dfpcip[dfpcip.stemTotal != 0]"
   ]
  },
  {
   "cell_type": "code",
   "execution_count": 22,
   "metadata": {},
   "outputs": [
    {
     "data": {
      "text/plain": [
       "<matplotlib.axes._subplots.AxesSubplot at 0x22c1aaa6128>"
      ]
     },
     "execution_count": 22,
     "metadata": {},
     "output_type": "execute_result"
    },
    {
     "data": {
      "image/png": "[encoded data removed]",
      "text/plain": [
       "<Figure size 720x720 with 2 Axes>"
      ]
     },
     "metadata": {
      "needs_background": "light"
     },
     "output_type": "display_data"
    }
   ],
   "source": [
    "fig, ax = plt.subplots(figsize=(10,10))\n",
    "corr = pcipdf.corr()\n",
    "sns.heatmap(corr, vmin =-1, annot = True)\n"
   ]
  },
  {
   "cell_type": "code",
   "execution_count": null,
   "metadata": {},
   "outputs": [],
   "source": []
  },
  {
   "cell_type": "code",
   "execution_count": null,
   "metadata": {},
   "outputs": [],
   "source": []
  }
 ],
 "metadata": {
  "kernelspec": {
   "display_name": "Python 3",
   "language": "python",
   "name": "python3"
  },
  "language_info": {
   "codemirror_mode": {
    "name": "ipython",
    "version": 3
   },
   "file_extension": ".py",
   "mimetype": "text/x-python",
   "name": "python",
   "nbconvert_exporter": "python",
   "pygments_lexer": "ipython3",
   "version": "3.7.3"
  }
 },
 "nbformat": 4,
 "nbformat_minor": 2
}
